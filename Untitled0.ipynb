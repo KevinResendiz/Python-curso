{
  "nbformat": 4,
  "nbformat_minor": 0,
  "metadata": {
    "colab": {
      "provenance": [],
      "authorship_tag": "ABX9TyMeKo05QKmnINyPBw///1Ki",
      "include_colab_link": true
    },
    "kernelspec": {
      "name": "python3",
      "display_name": "Python 3"
    },
    "language_info": {
      "name": "python"
    }
  },
  "cells": [
    {
      "cell_type": "markdown",
      "metadata": {
        "id": "view-in-github",
        "colab_type": "text"
      },
      "source": [
        "<a href=\"https://colab.research.google.com/github/KevinResendiz/Python-curso/blob/main/Untitled0.ipynb\" target=\"_parent\"><img src=\"https://colab.research.google.com/assets/colab-badge.svg\" alt=\"Open In Colab\"/></a>"
      ]
    },
    {
      "cell_type": "markdown",
      "source": [
        "Introducción"
      ],
      "metadata": {
        "id": "ndmbLizKkg2L"
      }
    },
    {
      "cell_type": "code",
      "execution_count": 1,
      "metadata": {
        "colab": {
          "base_uri": "https://localhost:8080/"
        },
        "id": "QILLjvdTg5r3",
        "outputId": "96b1c53c-02f3-4eaf-816e-1cdb3473f047"
      },
      "outputs": [
        {
          "output_type": "stream",
          "name": "stdout",
          "text": [
            "hola\n"
          ]
        }
      ],
      "source": [
        "print('hola')"
      ]
    },
    {
      "cell_type": "code",
      "source": [
        "nombre = 'kevin'"
      ],
      "metadata": {
        "id": "mSye6KMMhDFS"
      },
      "execution_count": 2,
      "outputs": []
    },
    {
      "cell_type": "code",
      "execution_count": 3,
      "metadata": {
        "colab": {
          "base_uri": "https://localhost:8080/"
        },
        "outputId": "bb84b136-7e4b-494f-b746-b538e62ba043",
        "id": "k3HykYHakvee"
      },
      "outputs": [
        {
          "output_type": "stream",
          "name": "stdout",
          "text": [
            "kevin\n"
          ]
        }
      ],
      "source": [
        "print(nombre)"
      ]
    },
    {
      "cell_type": "markdown",
      "source": [
        "Variables"
      ],
      "metadata": {
        "id": "yqEG-NiYk2qz"
      }
    },
    {
      "cell_type": "code",
      "source": [
        "numero1=5\n",
        "numero2=9.25\n",
        "ciudad=\"Monterrey\"\n",
        "edad=\"25\"\n",
        "pago=True"
      ],
      "metadata": {
        "id": "vBkwIND9krhs"
      },
      "execution_count": 22,
      "outputs": []
    },
    {
      "cell_type": "code",
      "source": [],
      "metadata": {
        "id": "pGa16x5yk_wx"
      },
      "execution_count": null,
      "outputs": []
    },
    {
      "cell_type": "code",
      "execution_count": 7,
      "metadata": {
        "colab": {
          "base_uri": "https://localhost:8080/"
        },
        "outputId": "cc0774d2-43d7-444f-de7d-0cc46f367684",
        "id": "-zWzM_JglwvJ"
      },
      "outputs": [
        {
          "output_type": "stream",
          "name": "stdout",
          "text": [
            "14.25\n"
          ]
        }
      ],
      "source": [
        "suma=numero1+numero2\n",
        "print(suma)"
      ]
    },
    {
      "cell_type": "code",
      "source": [
        "print('Estoy en ' + ciudad)"
      ],
      "metadata": {
        "colab": {
          "base_uri": "https://localhost:8080/"
        },
        "id": "ZonUIS9sl54Y",
        "outputId": "d56b8a04-c661-40b3-c43c-dbabf7952039"
      },
      "execution_count": 8,
      "outputs": [
        {
          "output_type": "stream",
          "name": "stdout",
          "text": [
            "Estoy en Monterrey\n"
          ]
        }
      ]
    },
    {
      "cell_type": "code",
      "source": [
        "print(ciudad*numero1)"
      ],
      "metadata": {
        "colab": {
          "base_uri": "https://localhost:8080/"
        },
        "id": "tJC48xwrmFtu",
        "outputId": "d8b054bc-4d24-43f0-d709-91dafd816314"
      },
      "execution_count": 10,
      "outputs": [
        {
          "output_type": "stream",
          "name": "stdout",
          "text": [
            "MonterreyMonterreyMonterreyMonterreyMonterrey\n"
          ]
        }
      ]
    },
    {
      "cell_type": "code",
      "execution_count": 14,
      "metadata": {
        "colab": {
          "base_uri": "https://localhost:8080/"
        },
        "outputId": "eb02c503-1d42-47f8-beaf-200d39d7b6ff",
        "id": "JloL5gl9mkxH"
      },
      "outputs": [
        {
          "output_type": "stream",
          "name": "stdout",
          "text": [
            "True\n"
          ]
        }
      ],
      "source": [
        "print(pago)"
      ]
    },
    {
      "cell_type": "code",
      "source": [
        "del pag"
      ],
      "metadata": {
        "id": "YuxBd2ixmbwF"
      },
      "execution_count": 20,
      "outputs": []
    },
    {
      "cell_type": "code",
      "source": [
        "numero1=\"pollo\""
      ],
      "metadata": {
        "id": "BfUfMoryoT9B"
      },
      "execution_count": 21,
      "outputs": []
    },
    {
      "cell_type": "code",
      "source": [
        "print(\"Hombre\",\"Mujer\", 5+numero1)"
      ],
      "metadata": {
        "colab": {
          "base_uri": "https://localhost:8080/"
        },
        "id": "Plvu4_9XtZv5",
        "outputId": "e878c19d-6a44-4712-b87d-003b486f2d12"
      },
      "execution_count": 23,
      "outputs": [
        {
          "output_type": "stream",
          "name": "stdout",
          "text": [
            "Hombre Mujer 14.25\n"
          ]
        }
      ]
    },
    {
      "cell_type": "code",
      "source": [
        "print(\"mi hijo tiene\" + str(numero1) +\" anos\")"
      ],
      "metadata": {
        "colab": {
          "base_uri": "https://localhost:8080/"
        },
        "id": "zZn1ux7ltvmA",
        "outputId": "f7c9c27f-b537-4868-e956-5c8a3c7a25a0"
      },
      "execution_count": 25,
      "outputs": [
        {
          "output_type": "stream",
          "name": "stdout",
          "text": [
            "mi hijo tiene9.25 anos\n"
          ]
        }
      ]
    },
    {
      "cell_type": "code",
      "source": [
        "print(int(edad)+numero1)"
      ],
      "metadata": {
        "colab": {
          "base_uri": "https://localhost:8080/"
        },
        "id": "Uh8RreUEt9ag",
        "outputId": "7055d983-eb23-42a2-cd22-b37375588a49"
      },
      "execution_count": 26,
      "outputs": [
        {
          "output_type": "stream",
          "name": "stdout",
          "text": [
            "30\n"
          ]
        }
      ]
    }
  ]
}